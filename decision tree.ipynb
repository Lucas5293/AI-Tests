{
 "cells": [
  {
   "cell_type": "code",
   "execution_count": 1,
   "metadata": {
    "scrolled": true
   },
   "outputs": [],
   "source": [
    "import pandas as pd  \n",
    "import numpy as np \n",
    "import matplotlib.pyplot as plt \n",
    "import seaborn as sns  \n",
    "%matplotlib inline \n",
    "from sklearn.model_selection import train_test_split  \n",
    "from sklearn.tree import DecisionTreeClassifier \n",
    "from sklearn.metrics import classification_report,confusion_matrix,f1_score  "
   ]
  },
  {
   "cell_type": "code",
   "execution_count": 6,
   "metadata": {},
   "outputs": [],
   "source": [
    "coinsCsv = pd.read_csv('data.csv')"
   ]
  },
  {
   "cell_type": "code",
   "execution_count": 26,
   "metadata": {},
   "outputs": [
    {
     "name": "stdout",
     "output_type": "stream",
     "text": [
      "<class 'pandas.core.frame.DataFrame'>\n",
      "RangeIndex: 100 entries, 0 to 99\n",
      "Data columns (total 5 columns):\n",
      "coin                 100 non-null object\n",
      " price               100 non-null float64\n",
      " percentChange1h     100 non-null float64\n",
      " percentChange24h    100 non-null float64\n",
      " percentChange7d     100 non-null float64\n",
      "dtypes: float64(4), object(1)\n",
      "memory usage: 4.0+ KB\n"
     ]
    }
   ],
   "source": [
    "coinsCsv.info()"
   ]
  },
  {
   "cell_type": "code",
   "execution_count": 12,
   "metadata": {},
   "outputs": [
    {
     "data": {
      "text/plain": [
       "0              Bitcoin\n",
       "1             Ethereum\n",
       "2                  XRP\n",
       "3         Bitcoin Cash\n",
       "4                  EOS\n",
       "5              Stellar\n",
       "6             Litecoin\n",
       "7               Tether\n",
       "8              Cardano\n",
       "9               Monero\n",
       "10                IOTA\n",
       "11                Dash\n",
       "12                TRON\n",
       "13                 NEO\n",
       "14    Ethereum Classic\n",
       "15        Binance Coin\n",
       "16                 NEM\n",
       "17               Tezos\n",
       "18             VeChain\n",
       "19            Dogecoin\n",
       "20               Zcash\n",
       "21             OmiseGO\n",
       "22        Bitcoin Gold\n",
       "23            Bytecoin\n",
       "24                Lisk\n",
       "25            Ontology\n",
       "26               Maker\n",
       "27                  0x\n",
       "28                Qtum\n",
       "29              Decred\n",
       "            ...       \n",
       "70              RChain\n",
       "71              Bancor\n",
       "72              Dropil\n",
       "73           Dentacoin\n",
       "74            MonaCoin\n",
       "75             FunFair\n",
       "76             Horizen\n",
       "77             GXChain\n",
       "78                 Ark\n",
       "79             Nebulas\n",
       "80                QASH\n",
       "81        Decentraland\n",
       "82            DigixDAO\n",
       "83                TenX\n",
       "84              Aurora\n",
       "85          CyberMiles\n",
       "86          Crypto.com\n",
       "87                 Nxt\n",
       "88            Loopring\n",
       "89               Mixin\n",
       "90        Power Ledger\n",
       "91         Theta Token\n",
       "92                 WAX\n",
       "93        Loom Network\n",
       "94                PIVX\n",
       "95                 Gas\n",
       "96         Dragonchain\n",
       "97               ZCoin\n",
       "98             Elastos\n",
       "99              Cortex\n",
       "Name: coin, Length: 100, dtype: object"
      ]
     },
     "execution_count": 12,
     "metadata": {},
     "output_type": "execute_result"
    }
   ],
   "source": [
    "#CHANGE NAMES\n",
    "x_coin = coinsCsv.drop(['coin'], axis=1)\n",
    "y_coin = coinsCsv['coin']"
   ]
  },
  {
   "cell_type": "code",
   "execution_count": 13,
   "metadata": {},
   "outputs": [],
   "source": [
    "X_train, X_test, y_train, y_test = train_test_split(x_coin, y_coin, test_size=0.30)"
   ]
  },
  {
   "cell_type": "code",
   "execution_count": 17,
   "metadata": {},
   "outputs": [],
   "source": [
    "decisionTree = DecisionTreeClassifier(criterion='entropy', \n",
    "                                          splitter='best', \n",
    "                                          max_depth=2, \n",
    "                                          min_samples_split=5, \n",
    "                                          min_samples_leaf=3, \n",
    "                                          min_weight_fraction_leaf=0.0, \n",
    "                                          max_features=4, \n",
    "                                          random_state=None, \n",
    "                                          max_leaf_nodes=4, \n",
    "                                          min_impurity_decrease=0.0, \n",
    "                                          min_impurity_split=None, \n",
    "                                          class_weight=None, \n",
    "                                          presort=False)"
   ]
  },
  {
   "cell_type": "code",
   "execution_count": 20,
   "metadata": {},
   "outputs": [
    {
     "data": {
      "text/plain": [
       "DecisionTreeClassifier(class_weight=None, criterion='entropy', max_depth=2,\n",
       "            max_features=4, max_leaf_nodes=4, min_impurity_decrease=0.0,\n",
       "            min_impurity_split=None, min_samples_leaf=3,\n",
       "            min_samples_split=5, min_weight_fraction_leaf=0.0,\n",
       "            presort=False, random_state=None, splitter='best')"
      ]
     },
     "execution_count": 20,
     "metadata": {},
     "output_type": "execute_result"
    }
   ],
   "source": [
    "decisionTree.fit(X_train,y_train)"
   ]
  },
  {
   "cell_type": "code",
   "execution_count": 21,
   "metadata": {},
   "outputs": [],
   "source": [
    "prediction = decisionTree.predict(X_test)"
   ]
  },
  {
   "cell_type": "code",
   "execution_count": 22,
   "metadata": {},
   "outputs": [
    {
     "data": {
      "text/plain": [
       "0.0"
      ]
     },
     "execution_count": 22,
     "metadata": {},
     "output_type": "execute_result"
    }
   ],
   "source": [
    "from sklearn.metrics import accuracy_score\n",
    "accuracy_score(y_test,prediction)*100"
   ]
  },
  {
   "cell_type": "code",
   "execution_count": 24,
   "metadata": {},
   "outputs": [
    {
     "name": "stdout",
     "output_type": "stream",
     "text": [
      "                       precision    recall  f1-score   support\n",
      "\n",
      "                   0x       0.00      0.00      0.00         1\n",
      "            Aeternity       0.00      0.00      0.00         0\n",
      "                 Aion       0.00      0.00      0.00         0\n",
      "                Ardor       0.00      0.00      0.00         0\n",
      "                  Ark       0.00      0.00      0.00         1\n",
      "               Aurora       0.00      0.00      0.00         1\n",
      "Basic Attention Token       0.00      0.00      0.00         1\n",
      "            BitShares       0.00      0.00      0.00         0\n",
      "              Bitcoin       0.00      0.00      0.00         1\n",
      "         Bitcoin Gold       0.00      0.00      0.00         1\n",
      "             Bytecoin       0.00      0.00      0.00         1\n",
      "              Cardano       0.00      0.00      0.00         1\n",
      "           Crypto.com       0.00      0.00      0.00         1\n",
      "             DigiByte       0.00      0.00      0.00         1\n",
      "             DigixDAO       0.00      0.00      0.00         1\n",
      "          Dragonchain       0.00      0.00      0.00         1\n",
      "               Dropil       0.00      0.00      0.00         1\n",
      "        ETERNAL TOKEN       0.00      0.00      0.00         1\n",
      "          Electroneum       0.00      0.00      0.00         1\n",
      "              FunFair       0.00      0.00      0.00         1\n",
      "                 Holo       0.00      0.00      0.00         1\n",
      "              Horizen       0.00      0.00      0.00         1\n",
      "                 ICON       0.00      0.00      0.00         1\n",
      "                 IOTA       0.00      0.00      0.00         1\n",
      "                 Lisk       0.00      0.00      0.00         1\n",
      "               Monero       0.00      0.00      0.00         1\n",
      "                  NEM       0.00      0.00      0.00         1\n",
      "                 Nano       0.00      0.00      0.00         1\n",
      "             Ontology       0.00      0.00      0.00         1\n",
      "         Power Ledger       0.00      0.00      0.00         1\n",
      "              Siacoin       0.00      0.00      0.00         1\n",
      "              Stellar       0.00      0.00      0.00         1\n",
      "                ZCoin       0.00      0.00      0.00         1\n",
      "                Zcash       0.00      0.00      0.00         1\n",
      "\n",
      "            micro avg       0.00      0.00      0.00        30\n",
      "            macro avg       0.00      0.00      0.00        30\n",
      "         weighted avg       0.00      0.00      0.00        30\n",
      "\n"
     ]
    },
    {
     "name": "stderr",
     "output_type": "stream",
     "text": [
      "/home/lucas/.local/lib/python3.6/site-packages/sklearn/metrics/classification.py:1143: UndefinedMetricWarning: Precision and F-score are ill-defined and being set to 0.0 in labels with no predicted samples.\n",
      "  'precision', 'predicted', average, warn_for)\n",
      "/home/lucas/.local/lib/python3.6/site-packages/sklearn/metrics/classification.py:1145: UndefinedMetricWarning: Recall and F-score are ill-defined and being set to 0.0 in labels with no true samples.\n",
      "  'recall', 'true', average, warn_for)\n"
     ]
    }
   ],
   "source": [
    "print(classification_report(y_test,prediction))"
   ]
  }
 ],
 "metadata": {
  "kernelspec": {
   "display_name": "Python 3",
   "language": "python",
   "name": "python3"
  },
  "language_info": {
   "codemirror_mode": {
    "name": "ipython",
    "version": 3
   },
   "file_extension": ".py",
   "mimetype": "text/x-python",
   "name": "python",
   "nbconvert_exporter": "python",
   "pygments_lexer": "ipython3",
   "version": "3.6.6"
  }
 },
 "nbformat": 4,
 "nbformat_minor": 2
}
